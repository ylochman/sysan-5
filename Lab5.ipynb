{
 "cells": [
  {
   "cell_type": "code",
   "execution_count": 1,
   "metadata": {},
   "outputs": [
    {
     "data": {
      "application/vnd.jupyter.widget-view+json": {
       "model_id": "2d75f00b7f1345a0909c5ab875c5d05f",
       "version_major": 2,
       "version_minor": 0
      },
      "text/html": [
       "<p>Failed to display Jupyter Widget of type <code>Tab</code>.</p>\n",
       "<p>\n",
       "  If you're reading this message in the Jupyter Notebook or JupyterLab Notebook, it may mean\n",
       "  that the widgets JavaScript is still loading. If this message persists, it\n",
       "  likely means that the widgets JavaScript library is either not installed or\n",
       "  not enabled. See the <a href=\"https://ipywidgets.readthedocs.io/en/stable/user_install.html\">Jupyter\n",
       "  Widgets Documentation</a> for setup instructions.\n",
       "</p>\n",
       "<p>\n",
       "  If you're reading this message in another frontend (for example, a static\n",
       "  rendering on GitHub or <a href=\"https://nbviewer.jupyter.org/\">NBViewer</a>),\n",
       "  it may mean that your frontend doesn't currently support widgets.\n",
       "</p>\n"
      ],
      "text/plain": [
       "Tab(children=(VBox(children=(HTML(value=\"<div align='center'><font size='6px' face='Arial' color='#0969A2'>Lab 5</font></div>\"), HTML(value=\"<div align='center'><font size='5px' face='Arial' color='#0969A2'>Дрон. Требования к функциональным элементам</font></div>\"), HBox(children=(VBox(children=(VBox(children=(HTML(value=\"<div align='center'><font size='4px' face='Arial' color='#0969A2'>Внешний вид</font></div>\"), Dropdown(description='Материал корпуса', layout=Layout(justify_content='center', width='400px'), options=('Волоконный композит', 'Кевлар', 'Углепластика', 'Экструдированный пенополистирол'), style=DescriptionStyle(description_width='initial'), value='Волоконный композит'), Checkbox(value=False, description='Портативность', style=DescriptionStyle(description_width='initial'))), layout=Layout(align_items='center', border='solid 0px', justify_content='center', margin='0px', width='450px')), VBox(children=(HTML(value=\"<div align='center'><font size='4px' face='Arial' color='#0969A2'>Механика</font></div>\"), Dropdown(description='Тип двигателя', layout=Layout(justify_content='center', width='400px'), options=('Бесколлекторный электродвигатель', 'Коллекторный электродвигатель', 'Электродвигатель'), style=DescriptionStyle(description_width='initial'), value='Бесколлекторный электродвигатель'), FloatRangeSlider(value=(2.0, 6.0), continuous_update=False, description='Число двигателей', layout=Layout(justify_content='flex-start', width='400px'), max=6.0, min=2.0, readout_format='d', step=1.0, style=SliderStyle(description_width='initial')), Dropdown(description='Тип движителя', layout=Layout(justify_content='center', width='400px'), options=('Винт', 'Реактивная тяга'), style=DescriptionStyle(description_width='initial'), value='Винт'), Dropdown(description='Материал пропеллера', layout=Layout(justify_content='center', width='400px'), options=('Волоконный композит', 'Карбон'), style=DescriptionStyle(description_width='initial'), value='Волоконный композит'), FloatRangeSlider(value=(2.0, 6.0), continuous_update=False, description='Число пропеллеров', layout=Layout(justify_content='flex-start', width='400px'), max=6.0, min=2.0, readout_format='d', step=1.0, style=SliderStyle(description_width='initial'))), layout=Layout(align_items='center', border='solid 0px', justify_content='center', margin='0px', width='450px')), VBox(children=(HTML(value=\"<div align='center'><font size='4px' face='Arial' color='#0969A2'></font></div>\"), FloatRangeSlider(value=(0.0, 30000.0), continuous_update=False, description='Стоимость, грн', layout=Layout(justify_content='flex-start', width='400px'), max=30000.0, readout_format='d', step=1.0, style=SliderStyle(description_width='initial')), FloatRangeSlider(value=(0.0, 1000.0), continuous_update=False, description='Общий вес, г', layout=Layout(justify_content='flex-start', width='400px'), max=1000.0, readout_format='d', step=1.0, style=SliderStyle(description_width='initial'))), layout=Layout(align_items='center', border='solid 0px', justify_content='center', margin='10px', width='480px')), Button(description='Анализ', style=ButtonStyle())), layout=Layout(align_items='center', border='solid 0px', height='530px', justify_content='space-around', padding='20px', width='500px')), VBox(children=(VBox(children=(HTML(value=\"<div align='center'><font size='4px' face='Arial' color='#0969A2'>Аппаратная составляющая</font></div>\"), Checkbox(value=False, description='Наличие GPS', style=DescriptionStyle(description_width='initial')), Checkbox(value=False, description='Наличие ИИ', style=DescriptionStyle(description_width='initial')), Dropdown(description='Производитель ', layout=Layout(justify_content='center', width='400px'), options=('Agisoft', 'Harris Geospatial Solutions', 'Trimble'), style=DescriptionStyle(description_width='initial'), value='Agisoft'), FloatRangeSlider(value=(1.6, 3.0), continuous_update=False, description='Частота процессора, Гц', layout=Layout(justify_content='flex-start', width='400px'), max=3.0, min=1.6, readout_format='.1f', style=SliderStyle(description_width='initial')), FloatRangeSlider(value=(4.0, 8.0), continuous_update=False, description='Количество ядер процессора', layout=Layout(justify_content='flex-start', width='400px'), max=8.0, min=4.0, readout_format='d', step=1.0, style=SliderStyle(description_width='initial')), FloatRangeSlider(value=(0.5, 3.0), continuous_update=False, description='Дальность приема сигнала, м', layout=Layout(justify_content='flex-start', width='400px'), max=3.0, min=0.5, readout_format='.1f', style=SliderStyle(description_width='initial')), FloatRangeSlider(value=(1.5, 2.4), continuous_update=False, description='Разрешение матрицы, Мп', layout=Layout(justify_content='flex-start', width='400px'), max=2.4, min=1.5, readout_format='.1f', style=SliderStyle(description_width='initial')), FloatRangeSlider(value=(90.0, 180.0), continuous_update=False, description='Угол обзора', layout=Layout(justify_content='flex-start', width='400px'), max=180.0, min=90.0, readout_format='d', step=1.0, style=SliderStyle(description_width='initial')), FloatRangeSlider(value=(10.0, 35.0), continuous_update=False, description='Дальность ИК подсветки, м', layout=Layout(justify_content='flex-start', width='400px'), max=35.0, min=10.0, readout_format='d', step=1.0, style=SliderStyle(description_width='initial'))), layout=Layout(align_items='center', border='solid 0px', justify_content='center', margin='0px', width='450px')), VBox(children=(HTML(value=\"<div align='center'><font size='4px' face='Arial' color='#0969A2'>Аккумулятор</font></div>\"), FloatRangeSlider(value=(60.0, 360.0), continuous_update=False, description='Продолжительность полета, мин', layout=Layout(justify_content='flex-start', width='400px'), max=360.0, min=60.0, readout_format='d', step=1.0, style=SliderStyle(description_width='initial')), FloatRangeSlider(value=(4.0, 10.0), continuous_update=False, description='Взлетная масса, кг', layout=Layout(justify_content='flex-start', width='400px'), max=10.0, min=4.0, readout_format='d', step=1.0, style=SliderStyle(description_width='initial')), FloatRangeSlider(value=(150.0, 1200.0), continuous_update=False, description='Высота полета, м', layout=Layout(justify_content='flex-start', width='400px'), max=1200.0, min=150.0, readout_format='d', step=1.0, style=SliderStyle(description_width='initial'))), layout=Layout(align_items='center', border='solid 0px', justify_content='center', margin='0px', width='450px'))), layout=Layout(align_items='center', border='solid 0px', height='530px', justify_content='space-around', padding='20px', width='500px'))))), layout=Layout(align_items='stretch', border='solid 1px', justify_content='center', padding='20px')), VBox(children=(HTML(value=\"<div align='center'><font size='6px' face='Arial' color='#0969A2'>Lab 5</font></div>\"), HTML(value=\"<div align='center'><font size='5px' face='Arial' color='#0969A2'>Дрон. Множество структур Паретто</font></div>\"), Label(value='')), layout=Layout(align_items='stretch', border='solid 1px', justify_content='center', padding='20px')), VBox(children=(HTML(value=\"<div align='center'><font size='6px' face='Arial' color='#0969A2'>Lab 5</font></div>\"), HTML(value=\"<div align='center'><font size='5px' face='Arial' color='#0969A2'>Дрон. Приоритетная структура</font></div>\"), Label(value='')), layout=Layout(align_items='stretch', border='solid 1px', justify_content='center', padding='20px'))), _titles={'0': 'Требования', '1': 'Множество структур Паретто', '2': 'Приоритетная структура'})"
      ]
     },
     "metadata": {},
     "output_type": "display_data"
    }
   ],
   "source": [
    "# !pip unistall ipywidgets\n",
    "# !pip install ipywidgets\n",
    "# !pip install tabulate\n",
    "# !pip install plotly \n",
    "\n",
    "%run lab5.py"
   ]
  },
  {
   "cell_type": "code",
   "execution_count": null,
   "metadata": {},
   "outputs": [],
   "source": []
  }
 ],
 "metadata": {
  "kernelspec": {
   "display_name": "Python 3",
   "language": "python",
   "name": "python3"
  },
  "language_info": {
   "codemirror_mode": {
    "name": "ipython",
    "version": 3
   },
   "file_extension": ".py",
   "mimetype": "text/x-python",
   "name": "python",
   "nbconvert_exporter": "python",
   "pygments_lexer": "ipython3",
   "version": "3.6.4"
  }
 },
 "nbformat": 4,
 "nbformat_minor": 2
}
