{
 "cells": [
  {
   "cell_type": "code",
   "execution_count": 179,
   "metadata": {},
   "outputs": [],
   "source": [
    "# pip unistall ipywidgets\n",
    "# pip install ipywidgets\n",
    "# pip install tabulate\n",
    "# pip install plotly "
   ]
  },
  {
   "cell_type": "code",
   "execution_count": 180,
   "metadata": {},
   "outputs": [],
   "source": [
    "import ipywidgets as w\n",
    "from IPython.display import display, clear_output\n",
    "import json\n",
    "\n",
    "from utils import *\n",
    "\n",
    "with open('data.txt', 'r') as f:\n",
    "    parts = json.load(f)"
   ]
  },
  {
   "cell_type": "code",
   "execution_count": null,
   "metadata": {},
   "outputs": [],
   "source": [
    "def combinations(parts, k):\n",
    "    if k > 1:\n",
    "        comb = [(*x, y) for x in combinations(parts, k-1) for y in parts[k]]\n",
    "        return comb\n",
    "    else:\n",
    "        comb = [(x, y) for x in parts[k-1] for y in parts[k]]\n",
    "        return comb\n",
    "    \n",
    "def get_attribute_sum(comb, attr):\n",
    "    attr_sum = 0\n",
    "    for part in comb:\n",
    "        attr_sum += list(part.values())[0][attr]\n",
    "    return attr_sum"
   ]
  },
  {
   "cell_type": "code",
   "execution_count": 186,
   "metadata": {
    "code_folding": []
   },
   "outputs": [],
   "source": [
    "### INITIAL FORM | VISUALIZATION ###\n",
    "\n",
    "####################################################################################################\n",
    "# Іміджева складова\n",
    "####################################################################################################\n",
    "w1_widgets = [\n",
    "    widget_typeBox('Материал корпуса', get_part_attr(parts, 'Body', 'material')),\n",
    "    widget_flag('Портативность')\n",
    "]\n",
    "w1 = widget_group('Внешний вид', w1_widgets)\n",
    "\n",
    "####################################################################################################\n",
    "# Механічна складова\n",
    "####################################################################################################\n",
    "w2_widgets = [\n",
    "    widget_typeBox('Тип двигателя', get_part_attr(parts, 'Engine', 'engine_type')),\n",
    "    widget_rangeBoxInt('Число двигателей', *get_boundaries(parts, 'Engine', 'number')),\n",
    "    widget_typeBox('Тип движителя', get_part_attr(parts, 'Engine', 'propulsion_type')),\n",
    "    \n",
    "    widget_typeBox('Материал пропеллера', get_part_attr(parts, 'Propeller', 'material')),\n",
    "    widget_rangeBoxInt('Число пропеллеров', *get_boundaries(parts, 'Propeller', 'number')),\n",
    "]\n",
    "w2 = widget_group('Механика', w2_widgets)\n",
    "\n",
    "####################################################################################################\n",
    "# Апаратна складова\n",
    "####################################################################################################\n",
    "w3_widgets = [\n",
    "    widget_flag('Наличие GPS'),\n",
    "    widget_flag('Наличие ИИ'),\n",
    "    widget_typeBox('Производитель ', get_part_attr(parts, 'Software', 'manufacturer')),\n",
    "    \n",
    "    widget_rangeBoxFloat('Частота процессора, Гц', *get_boundaries(parts, 'CPU', 'frequency')),\n",
    "    widget_rangeBoxInt('Количество ядер процессора', *get_boundaries(parts, 'CPU', 'num_cores')),\n",
    "    \n",
    "    widget_rangeBoxFloat('Дальность приема сигнала, м', *get_boundaries(parts, 'Sensor',\n",
    "                                                                        'signal_acceptance_distance')),\n",
    "    \n",
    "    widget_rangeBoxFloat('Разрешение матрицы, Мп', *get_boundaries(parts, 'Camera', 'resolution')),\n",
    "    widget_rangeBoxInt('Угол обзора', *get_boundaries(parts, 'Camera', 'angle')),\n",
    "    widget_rangeBoxInt('Дальность ИК подсветки, м', *get_boundaries(parts, 'Camera', 'IR_illumination')),\n",
    "]\n",
    "w3 = widget_group('Аппаратная составляющая', w3_widgets)\n",
    "\n",
    "####################################################################################################\n",
    "# Акумулятор\n",
    "####################################################################################################\n",
    "w4_widgets = [\n",
    "    widget_rangeBoxInt('Продолжительность полета, мин', *get_boundaries(parts, 'Accumulator', 'duration')),\n",
    "    widget_rangeBoxInt('Взлетная масса, кг', *get_boundaries(parts, 'Accumulator', 'take_off_weight')),\n",
    "    widget_rangeBoxInt('Высота полета, м', *get_boundaries(parts, 'Accumulator', 'height')),\n",
    "]\n",
    "w4 = widget_group('Аккумулятор', w4_widgets)\n",
    "\n",
    "####################################################################################################\n",
    "# Total\n",
    "####################################################################################################\n",
    "w5_widgets = [\n",
    "#     widget_rangeBox('Общая стоимость', 0, 1000),\n",
    "#     widget_rangeBox('Общий вес', 0, 1000)\n",
    "     widget_rangeBoxInt('Стоимость, грн', 0, 30000),\n",
    "     widget_rangeBoxInt('Общий вес, г', 0, 1000),\n",
    "]\n",
    "layout = w.Layout(width='480px', border='solid 0px', margin='10px',\n",
    "                  justify_content='center', align_items='center')\n",
    "w5 = widget_group('', w5_widgets, layout=layout)"
   ]
  },
  {
   "cell_type": "code",
   "execution_count": 309,
   "metadata": {
    "code_folding": [
     3,
     12
    ]
   },
   "outputs": [],
   "source": [
    "def analyse(b, parts, window):\n",
    "    clear_output()\n",
    "    tab.active = 1\n",
    "    display(tab)\n",
    "#     display(window)\n",
    "    restriction = {}\n",
    "    for key in get_keys(parts):\n",
    "        restriction[key] = {}\n",
    "        \n",
    "    restriction['Body']['material'] = w1.children[1].value\n",
    "    restriction['Body']['portability'] = w1.children[2].value\n",
    "\n",
    "    restriction['Engine']['engine_type'] = w2.children[1].value\n",
    "    restriction['Engine']['number'] = w2.children[2].value\n",
    "    restriction['Engine']['propulsion_type'] = w2.children[3].value\n",
    "    restriction['Propeller']['material'] = w2.children[4].value\n",
    "    restriction['Propeller']['number'] = w2.children[5].value\n",
    "\n",
    "    restriction['Software']['GPS'] = w3.children[1].value\n",
    "    restriction['Software']['AI'] = w3.children[2].value\n",
    "    restriction['Software']['manufacturer'] = w3.children[3].value\n",
    "    restriction['CPU']['frequency'] = w3.children[4].value\n",
    "    restriction['CPU']['num_cores'] = w3.children[5].value\n",
    "    restriction['Sensor']['signal_acceptance_distance'] = w3.children[6].value\n",
    "    restriction['Camera']['resolution'] = w3.children[7].value\n",
    "    restriction['Camera']['angle'] = w3.children[8].value\n",
    "    restriction['Camera']['IR_illumination'] = w3.children[9].value\n",
    "\n",
    "    restriction['Accumulator']['duration'] = w4.children[1].value\n",
    "    restriction['Accumulator']['take_off_weight'] = w4.children[2].value\n",
    "    restriction['Accumulator']['height'] = w4.children[3].value\n",
    "    \n",
    "    restriction['Total'] = {}\n",
    "    restriction['Total']['cost'] = w5.children[1].value\n",
    "    restriction['Total']['weight'] = w5.children[2].value\n",
    "    \n",
    "#     print(restriction)\n",
    "    brute_force(b, parts, restriction)"
   ]
  },
  {
   "cell_type": "code",
   "execution_count": 310,
   "metadata": {},
   "outputs": [],
   "source": [
    "def brute_force(b, parts, restriction):\n",
    "    new_parts = []\n",
    "    for part in get_keys(parts): #restriction.keys():\n",
    "        particular_parts = filter_parts(parts, part)\n",
    "        for example in particular_parts:\n",
    "            example_satisfies_conditions = True\n",
    "            for attr in restriction[part].keys():\n",
    "                if isinstance(restriction[part][attr], str):\n",
    "                    condition = example[part][attr] == restriction[part][attr]\n",
    "                elif isinstance(restriction[part][attr], tuple):\n",
    "                    min_value, max_value = restriction[part][attr]\n",
    "                    condition = example[part][attr] >= min_value and example[part][attr] <= max_value\n",
    "                elif isinstance(restriction[part][attr], bool):\n",
    "                    condition = not restriction[part][attr] or (example[part][attr] \n",
    "                                                                and restriction[part][attr])\n",
    "                if not condition:\n",
    "                    example_satisfies_conditions = False\n",
    "                    break\n",
    "            if example_satisfies_conditions:\n",
    "                new_parts.append(example)\n",
    "\n",
    "#     print(list(map(lambda part: '{}: {}'.format(part, filter_parts(new_parts, part) != []), get_keys(parts))))\n",
    "    if not all(filter_parts(new_parts, part) != [] for part in get_keys(parts)):\n",
    "        print('Bad news :(')\n",
    "        return\n",
    "        \n",
    "    new_pparts = []\n",
    "    for part in get_keys(new_parts):\n",
    "        new_pparts.append(filter_parts(new_parts, part))\n",
    "    filtered_combinations = []\n",
    "    for comb in combinations(new_pparts, len(pparts)-1):\n",
    "        min_cost, max_cost = restriction['Total']['cost']\n",
    "        min_weight, max_weight = restriction['Total']['weight']\n",
    "        comb_cost = get_attribute_sum(comb, 'price')\n",
    "        comb_weight = get_attribute_sum(comb, 'weight')\n",
    "        if comb_cost >= min_cost and comb_cost <= max_cost and \\\n",
    "        comb_weight >= min_weight and comb_weight <= max_weight:\n",
    "            filtered_combinations.append(comb)\n",
    "    if len(filtered_combinations) == 0:\n",
    "        print('Bad news :(')\n",
    "        return\n",
    "    visualize_structure(b, filtered_combinations, 1)"
   ]
  },
  {
   "cell_type": "code",
   "execution_count": 311,
   "metadata": {},
   "outputs": [],
   "source": [
    "def visualize_structure(b, filtered_combinations, i):\n",
    "    print('Множество Паретто')\n",
    "    print('Мощность множества = {}'.format(len(filtered_combinations)))\n",
    "    print('Выбранная структура: {}\\n'.format(i))\n",
    "    for part in filtered_combinations[i-1]:\n",
    "        print('{} {}'.format(list(part.keys())[0], list(part.values())[0]['name']))\n",
    "        for key in set(list(part.values())[0].keys()) - {'name', 'price', 'weight'}:\n",
    "            print('\\t> {}: {}'.format(key, list(part.values())[0][key]))\n",
    "        print()\n",
    "    "
   ]
  },
  {
   "cell_type": "code",
   "execution_count": 312,
   "metadata": {
    "code_folding": [],
    "scrolled": false
   },
   "outputs": [],
   "source": [
    "b1 = w.Button(\n",
    "    description='Анализ',\n",
    "    button_style='', # 'success', 'info', 'warning', 'danger' or ''\n",
    ")\n",
    "\n",
    "b1.on_click(lambda b: analyse(b, parts, window))"
   ]
  },
  {
   "cell_type": "code",
   "execution_count": 316,
   "metadata": {
    "scrolled": false
   },
   "outputs": [
    {
     "data": {
      "application/vnd.jupyter.widget-view+json": {
       "model_id": "406910e0cfb04a318f3b9d1efc8e1f12",
       "version_major": 2,
       "version_minor": 0
      },
      "text/html": [
       "<p>Failed to display Jupyter Widget of type <code>Tab</code>.</p>\n",
       "<p>\n",
       "  If you're reading this message in the Jupyter Notebook or JupyterLab Notebook, it may mean\n",
       "  that the widgets JavaScript is still loading. If this message persists, it\n",
       "  likely means that the widgets JavaScript library is either not installed or\n",
       "  not enabled. See the <a href=\"https://ipywidgets.readthedocs.io/en/stable/user_install.html\">Jupyter\n",
       "  Widgets Documentation</a> for setup instructions.\n",
       "</p>\n",
       "<p>\n",
       "  If you're reading this message in another frontend (for example, a static\n",
       "  rendering on GitHub or <a href=\"https://nbviewer.jupyter.org/\">NBViewer</a>),\n",
       "  it may mean that your frontend doesn't currently support widgets.\n",
       "</p>\n"
      ],
      "text/plain": [
       "Tab(children=(VBox(children=(HTML(value=\"<div align='center'><font size='6px' face='Arial' color='#0969A2'>Lab 5</font></div>\"), HTML(value=\"<div align='center'><font size='5px' face='Arial' color='#0969A2'>Дрон. Требования к функциональным элементам</font></div>\"), HBox(children=(VBox(children=(VBox(children=(HTML(value=\"<div align='center'><font size='4px' face='Arial' color='#0969A2'>Внешний вид</font></div>\"), Dropdown(description='Материал корпуса', layout=Layout(justify_content='center', width='400px'), options=('Волоконный композит', 'Кевлар', 'Углепластика', 'Экструдированный пенополистирол'), style=DescriptionStyle(description_width='initial'), value='Волоконный композит'), Checkbox(value=False, description='Портативность', style=DescriptionStyle(description_width='initial'))), layout=Layout(align_items='center', border='solid 0px', justify_content='center', margin='0px', width='450px')), VBox(children=(HTML(value=\"<div align='center'><font size='4px' face='Arial' color='#0969A2'>Механика</font></div>\"), Dropdown(description='Тип двигателя', layout=Layout(justify_content='center', width='400px'), options=('Бесколлекторный электродвигатель', 'Коллекторный электродвигатель', 'Электродвигатель'), style=DescriptionStyle(description_width='initial'), value='Бесколлекторный электродвигатель'), FloatRangeSlider(value=(2.0, 6.0), continuous_update=False, description='Число двигателей', layout=Layout(justify_content='flex-start', width='400px'), max=6.0, min=2.0, readout_format='d', step=1.0, style=SliderStyle(description_width='initial')), Dropdown(description='Тип движителя', layout=Layout(justify_content='center', width='400px'), options=('Винт', 'Реактивная тяга'), style=DescriptionStyle(description_width='initial'), value='Винт'), Dropdown(description='Материал пропеллера', layout=Layout(justify_content='center', width='400px'), options=('Волоконный композит', 'Карбон'), style=DescriptionStyle(description_width='initial'), value='Волоконный композит'), FloatRangeSlider(value=(4.0, 6.0), continuous_update=False, description='Число пропеллеров', layout=Layout(justify_content='flex-start', width='400px'), max=6.0, min=2.0, readout_format='d', step=1.0, style=SliderStyle(description_width='initial'))), layout=Layout(align_items='center', border='solid 0px', justify_content='center', margin='0px', width='450px')), VBox(children=(HTML(value=\"<div align='center'><font size='4px' face='Arial' color='#0969A2'></font></div>\"), FloatRangeSlider(value=(0.0, 21797.0), continuous_update=False, description='Стоимость, грн', layout=Layout(justify_content='flex-start', width='400px'), max=30000.0, readout_format='d', step=1.0, style=SliderStyle(description_width='initial')), FloatRangeSlider(value=(0.0, 1000.0), continuous_update=False, description='Общий вес, г', layout=Layout(justify_content='flex-start', width='400px'), max=1000.0, readout_format='d', step=1.0, style=SliderStyle(description_width='initial'))), layout=Layout(align_items='center', border='solid 0px', justify_content='center', margin='10px', width='480px')), Button(description='Анализ', style=ButtonStyle())), layout=Layout(align_items='center', border='solid 0px', height='530px', justify_content='space-around', padding='20px', width='500px')), VBox(children=(VBox(children=(HTML(value=\"<div align='center'><font size='4px' face='Arial' color='#0969A2'>Аппаратная составляющая</font></div>\"), Checkbox(value=False, description='Наличие GPS', style=DescriptionStyle(description_width='initial')), Checkbox(value=False, description='Наличие ИИ', style=DescriptionStyle(description_width='initial')), Dropdown(description='Производитель ', layout=Layout(justify_content='center', width='400px'), options=('Agisoft', 'Harris Geospatial Solutions', 'Trimble'), style=DescriptionStyle(description_width='initial'), value='Agisoft'), FloatRangeSlider(value=(2.1, 3.0), continuous_update=False, description='Частота процессора, Гц', layout=Layout(justify_content='flex-start', width='400px'), max=3.0, min=1.6, readout_format='.1f', style=SliderStyle(description_width='initial')), FloatRangeSlider(value=(6.0, 8.0), continuous_update=False, description='Количество ядер процессора', layout=Layout(justify_content='flex-start', width='400px'), max=8.0, min=4.0, readout_format='d', step=1.0, style=SliderStyle(description_width='initial')), FloatRangeSlider(value=(1.4, 3.0), continuous_update=False, description='Дальность приема сигнала, м', layout=Layout(justify_content='flex-start', width='400px'), max=3.0, min=0.5, readout_format='.1f', style=SliderStyle(description_width='initial')), FloatRangeSlider(value=(1.5, 2.4), continuous_update=False, description='Разрешение матрицы, Мп', layout=Layout(justify_content='flex-start', width='400px'), max=2.4, min=1.5, readout_format='.1f', style=SliderStyle(description_width='initial')), FloatRangeSlider(value=(114.0, 180.0), continuous_update=False, description='Угол обзора', layout=Layout(justify_content='flex-start', width='400px'), max=180.0, min=90.0, readout_format='d', step=1.0, style=SliderStyle(description_width='initial')), FloatRangeSlider(value=(10.0, 35.0), continuous_update=False, description='Дальность ИК подсветки, м', layout=Layout(justify_content='flex-start', width='400px'), max=35.0, min=10.0, readout_format='d', step=1.0, style=SliderStyle(description_width='initial'))), layout=Layout(align_items='center', border='solid 0px', justify_content='center', margin='0px', width='450px')), VBox(children=(HTML(value=\"<div align='center'><font size='4px' face='Arial' color='#0969A2'>Аккумулятор</font></div>\"), FloatRangeSlider(value=(60.0, 360.0), continuous_update=False, description='Продолжительность полета, мин', layout=Layout(justify_content='flex-start', width='400px'), max=360.0, min=60.0, readout_format='d', step=1.0, style=SliderStyle(description_width='initial')), FloatRangeSlider(value=(6.0, 8.0), continuous_update=False, description='Взлетная масса, кг', layout=Layout(justify_content='flex-start', width='400px'), max=10.0, min=4.0, readout_format='d', step=1.0, style=SliderStyle(description_width='initial')), FloatRangeSlider(value=(416.0, 1200.0), continuous_update=False, description='Высота полета, м', layout=Layout(justify_content='flex-start', width='400px'), max=1200.0, min=150.0, readout_format='d', step=1.0, style=SliderStyle(description_width='initial'))), layout=Layout(align_items='center', border='solid 0px', justify_content='center', margin='0px', width='450px'))), layout=Layout(align_items='center', border='solid 0px', height='530px', justify_content='space-around', padding='20px', width='500px'))))), layout=Layout(align_items='stretch', border='solid 1px', justify_content='center', padding='20px')), Label(value='Множество Паретто'), Label(value='Приоритетное требование')), _titles={'0': 'Требования', '1': 'Выбор структуры', '2': 'Приоритетное требование'})"
      ]
     },
     "metadata": {},
     "output_type": "display_data"
    },
    {
     "name": "stdout",
     "output_type": "stream",
     "text": [
      "Множество Паретто\n",
      "Мощность множества = 8\n",
      "Выбранная структура: 1\n",
      "\n",
      "Camera AVT AHDCH 108\n",
      "\t> IR_illumination: 18\n",
      "\t> angle: 180\n",
      "\t> resolution: 2\n",
      "\n",
      "Engine Syma NHYDXS\n",
      "\t> engine_type: Бесколлекторный электродвигатель\n",
      "\t> number: 2\n",
      "\t> propulsion_type: Винт\n",
      "\n",
      "Sensor VDI/VDE 3845\n",
      "\t> signal_acceptance_distance: 2\n",
      "\n",
      "Accumulator Skywalker X8\n",
      "\t> take_off_weight: 8\n",
      "\t> duration: 240\n",
      "\t> height: 1200\n",
      "\n",
      "CPU DSP C66x\n",
      "\t> frequency: 2.7\n",
      "\t> num_cores: 8\n",
      "\n",
      "Body AgDrone\n",
      "\t> portability: True\n",
      "\t> material: Волоконный композит\n",
      "\n",
      "Software Agisoft Photoscan\n",
      "\t> manufacturer: Agisoft\n",
      "\t> GPS: True\n",
      "\t> AI: False\n",
      "\n",
      "Propeller Phantom 5\n",
      "\t> number: 4\n",
      "\t> material: Волоконный композит\n",
      "\n"
     ]
    }
   ],
   "source": [
    "all_widgets = w.HBox([w.VBox([w1, w2, w5, b1], layout=bigGroup), w.VBox([w3, w4], layout=bigGroup)])\n",
    "\n",
    "window = w.VBox([widget_header('Lab 5', bold=False, face=facefont),\n",
    "                widget_header('Дрон. Требования к функциональным элементам', bold=False, size=5, face=facefont),\n",
    "                all_widgets], layout=allLayout) \n",
    "\n",
    "widgets_structure = w.Label('Множество Паретто')\n",
    "widgets_priority = w.Label('Приоритетное требование')\n",
    "\n",
    "tab_contents = ['Требования', 'Выбор структуры', 'Приоритетное требование']\n",
    "children = [window, widgets_structure, widgets_priority]\n",
    "tab = w.Tab()\n",
    "tab.children = children\n",
    "for i in range(len(children)):\n",
    "    tab.set_title(i, tab_contents[i])\n",
    "display(tab)"
   ]
  },
  {
   "cell_type": "markdown",
   "metadata": {},
   "source": [
    "### Ответ"
   ]
  },
  {
   "cell_type": "code",
   "execution_count": 132,
   "metadata": {
    "code_folding": [
     0
    ]
   },
   "outputs": [],
   "source": [
    "####################################################################################################\n",
    "# Іміджева складова\n",
    "####################################################################################################\n",
    "rw1_widgets = [\n",
    "    widget_typeBox('Корпус', get_part_attr(parts, 'Body', 'name')),\n",
    "]\n",
    "\n",
    "rw1 = widget_group('Зовнішній вигляд', rw1_widgets)\n",
    "\n",
    "####################################################################################################\n",
    "# Механічна складова\n",
    "####################################################################################################\n",
    "rw2_widgets = [\n",
    "    widget_typeBox('Двигуни', get_part_attr(parts, 'Engine', 'name')),\n",
    "    \n",
    "    widget_typeBox('Проперели', get_part_attr(parts, 'Propeller', 'name')),\n",
    "]\n",
    "rw2 = widget_group('Механіка', rw2_widgets)\n",
    "\n",
    "####################################################################################################\n",
    "# Апаратна складова\n",
    "####################################################################################################\n",
    "rw3_widgets = [\n",
    "    widget_typeBox('Процесор', get_part_attr(parts, 'CPU', 'name')),\n",
    "    \n",
    "    widget_typeBox('Датчик зв\\'язку', get_part_attr(parts, 'Sensor', 'name')),\n",
    "    \n",
    "    widget_typeBox('Програмне забезпечення', get_part_attr(parts, 'Software', 'name')),\n",
    "    widget_typeBox('Камера', get_part_attr(parts, 'Camera', 'name')),\n",
    "]\n",
    "rw3 = widget_group('Апаратна складова', rw3_widgets)\n",
    "\n",
    "####################################################################################################\n",
    "# Акумулятор\n",
    "####################################################################################################\n",
    "rw4_widgets = [\n",
    "    widget_typeBox('Акумулятор', get_part_attr(parts, 'Accumulator', 'name')),\n",
    "]\n",
    "rw4 = widget_group('Акумулятор', rw4_widgets)\n",
    "\n",
    "####################################################################################################\n",
    "# Total\n",
    "####################################################################################################\n",
    "totalLayout = w.Layout(width='200px', justify_content='flex-end')\n",
    "rw5_widgets = [\n",
    "      w.HBox([w.Label(value='Загальна вартість:', style=title_style),\n",
    "              w.Label(value='', style=title_style)], layout=totalLayout),\n",
    "      w.HBox([w.Label(value='Загальна вага:', style=title_style),\n",
    "              w.Label(value='', style=title_style)], layout=totalLayout),\n",
    "]\n",
    "rw5 = widget_group('', rw5_widgets)"
   ]
  },
  {
   "cell_type": "code",
   "execution_count": 133,
   "metadata": {},
   "outputs": [],
   "source": [
    "def get_price(body, engine, propellers, cpu, sensor, software, camera, accumulator):\n",
    "    names = list(map(lambda part: list(part.values())[0]['name'], parts))\n",
    "    price = 0\n",
    "    for name in [body, engine, propellers, cpu, sensor, software, camera, accumulator]:\n",
    "        assert name in names, '{} is not a valid name'.format(name)\n",
    "        price += get_attr(list(filter(lambda part: list(part.values())[0]['name'] == name, parts)), 'price')[0]\n",
    "    return price\n",
    "\n",
    "def get_weight(body, engine, propellers, cpu, sensor, software, camera, accumulator):\n",
    "    names = list(map(lambda part: list(part.values())[0]['name'], parts))\n",
    "    weight = 0\n",
    "    for name in [body, engine, propellers, cpu, sensor, software, camera, accumulator]:\n",
    "        assert name in names, '{} is not a valid name'.format(name)\n",
    "        weight += get_attr(list(filter(lambda part: list(part.values())[0]['name'] == name, parts)), 'weight')[0]\n",
    "    return weight\n",
    "\n",
    "def calculate(b):\n",
    "    rw5.children[1].children[1].value = str(get_price(rw1.children[1].value,\n",
    "                                                      rw2.children[1].value, rw2.children[2].value,\n",
    "                                                      rw3.children[1].value, rw3.children[2].value,\n",
    "                                                      rw3.children[3].value, rw3.children[4].value,\n",
    "                                                      rw4.children[1].value)) + ' грн'\n",
    "    rw5.children[2].children[1].value = str(get_weight(rw1.children[1].value,\n",
    "                                                       rw2.children[1].value, rw2.children[2].value,\n",
    "                                                       rw3.children[1].value, rw3.children[2].value,\n",
    "                                                       rw3.children[3].value, rw3.children[4].value,\n",
    "                                                       rw4.children[1].value)) + ' г'"
   ]
  },
  {
   "cell_type": "code",
   "execution_count": 134,
   "metadata": {
    "code_folding": []
   },
   "outputs": [
    {
     "data": {
      "application/vnd.jupyter.widget-view+json": {
       "model_id": "ece6025aa0e84180b5dee858fd934336",
       "version_major": 2,
       "version_minor": 0
      },
      "text/html": [
       "<p>Failed to display Jupyter Widget of type <code>HTML</code>.</p>\n",
       "<p>\n",
       "  If you're reading this message in the Jupyter Notebook or JupyterLab Notebook, it may mean\n",
       "  that the widgets JavaScript is still loading. If this message persists, it\n",
       "  likely means that the widgets JavaScript library is either not installed or\n",
       "  not enabled. See the <a href=\"https://ipywidgets.readthedocs.io/en/stable/user_install.html\">Jupyter\n",
       "  Widgets Documentation</a> for setup instructions.\n",
       "</p>\n",
       "<p>\n",
       "  If you're reading this message in another frontend (for example, a static\n",
       "  rendering on GitHub or <a href=\"https://nbviewer.jupyter.org/\">NBViewer</a>),\n",
       "  it may mean that your frontend doesn't currently support widgets.\n",
       "</p>\n"
      ],
      "text/plain": [
       "HTML(value=\"<div align='center'><font size='6px' face='Arial' color='#0969A2'><b>Lab 5</b></font></div>\")"
      ]
     },
     "metadata": {},
     "output_type": "display_data"
    },
    {
     "data": {
      "application/vnd.jupyter.widget-view+json": {
       "model_id": "6deeb38dc3a04789a98948e8a7860f66",
       "version_major": 2,
       "version_minor": 0
      },
      "text/html": [
       "<p>Failed to display Jupyter Widget of type <code>HTML</code>.</p>\n",
       "<p>\n",
       "  If you're reading this message in the Jupyter Notebook or JupyterLab Notebook, it may mean\n",
       "  that the widgets JavaScript is still loading. If this message persists, it\n",
       "  likely means that the widgets JavaScript library is either not installed or\n",
       "  not enabled. See the <a href=\"https://ipywidgets.readthedocs.io/en/stable/user_install.html\">Jupyter\n",
       "  Widgets Documentation</a> for setup instructions.\n",
       "</p>\n",
       "<p>\n",
       "  If you're reading this message in another frontend (for example, a static\n",
       "  rendering on GitHub or <a href=\"https://nbviewer.jupyter.org/\">NBViewer</a>),\n",
       "  it may mean that your frontend doesn't currently support widgets.\n",
       "</p>\n"
      ],
      "text/plain": [
       "HTML(value=\"<div align='center'><font size='6px' face='Arial' color='#0969A2'>Drone</font></div>\")"
      ]
     },
     "metadata": {},
     "output_type": "display_data"
    },
    {
     "data": {
      "application/vnd.jupyter.widget-view+json": {
       "model_id": "ed22db976a334adc99cf1d8132d1e4db",
       "version_major": 2,
       "version_minor": 0
      },
      "text/html": [
       "<p>Failed to display Jupyter Widget of type <code>HBox</code>.</p>\n",
       "<p>\n",
       "  If you're reading this message in the Jupyter Notebook or JupyterLab Notebook, it may mean\n",
       "  that the widgets JavaScript is still loading. If this message persists, it\n",
       "  likely means that the widgets JavaScript library is either not installed or\n",
       "  not enabled. See the <a href=\"https://ipywidgets.readthedocs.io/en/stable/user_install.html\">Jupyter\n",
       "  Widgets Documentation</a> for setup instructions.\n",
       "</p>\n",
       "<p>\n",
       "  If you're reading this message in another frontend (for example, a static\n",
       "  rendering on GitHub or <a href=\"https://nbviewer.jupyter.org/\">NBViewer</a>),\n",
       "  it may mean that your frontend doesn't currently support widgets.\n",
       "</p>\n"
      ],
      "text/plain": [
       "HBox(children=(VBox(children=(VBox(children=(HTML(value=\"<div align='center'><font size='4px' face='Arial' color='#0969A2'>Зовнішній вигляд</font></div>\"), Dropdown(description='Корпус', layout=Layout(justify_content='center', width='400px'), options=('AgDrone', 'Hubsan H501S', 'Hubsan H551O', 'Hubsan H818J', 'Raytheon', 'Тахион'), style=DescriptionStyle(description_width='initial'), value='AgDrone')), layout=Layout(align_items='center', border='solid 0px', justify_content='center', margin='0px', width='450px')), VBox(children=(HTML(value=\"<div align='center'><font size='4px' face='Arial' color='#0969A2'>Механіка</font></div>\"), Dropdown(description='Двигуни', layout=Layout(justify_content='center', width='400px'), options=('DJI SPARK', 'Rotron LAZ29', 'Rotron VVMH7', 'Rotron Y3TKO', 'Syma NHYDXS', 'Syma X5SW\\xa0', 'Syma X8HW', 'WL Toys WL-Q282Jw'), style=DescriptionStyle(description_width='initial'), value='DJI SPARK'), Dropdown(description='Проперели', layout=Layout(justify_content='center', width='400px'), options=('AEE N7638', 'AEE Propeller', 'DJI 9450 CW', 'DJI Inspire 2', 'Phantom 1', 'Phantom 3', 'Phantom 5'), style=DescriptionStyle(description_width='initial'), value='AEE N7638')), layout=Layout(align_items='center', border='solid 0px', justify_content='center', margin='0px', width='450px')), VBox(children=(HTML(value=\"<div align='center'><font size='4px' face='Arial' color='#0969A2'></font></div>\"), HBox(children=(Label(value='Загальна вартість:', style=DescriptionStyle(description_width='initial')), Label(value='', style=DescriptionStyle(description_width='initial'))), layout=Layout(justify_content='flex-end', width='200px')), HBox(children=(Label(value='Загальна вага:', style=DescriptionStyle(description_width='initial')), Label(value='', style=DescriptionStyle(description_width='initial'))), layout=Layout(justify_content='flex-end', width='200px'))), layout=Layout(align_items='center', border='solid 0px', justify_content='center', margin='0px', width='450px'))), layout=Layout(align_items='center', border='solid 0px', height='530px', justify_content='space-around', padding='20px', width='500px')), VBox(children=(VBox(children=(HTML(value=\"<div align='center'><font size='4px' face='Arial' color='#0969A2'>Апаратна складова</font></div>\"), Dropdown(description='Процесор', layout=Layout(justify_content='center', width='400px'), options=('C6678', 'DSP C66x', 'DSP А871', 'TMS320C6678'), style=DescriptionStyle(description_width='initial'), value='C6678'), Dropdown(description=\"Датчик зв'язку\", layout=Layout(justify_content='center', width='400px'), options=('ATEX', 'DIN EN', 'Namur', 'VDI/VDE 3845'), style=DescriptionStyle(description_width='initial'), value='ATEX'), Dropdown(description='Програмне забезпечення', layout=Layout(justify_content='center', width='400px'), options=('Agisoft Photoscan', 'ENVI OneButton', 'PHOTOMOD UAS', 'UASMaster'), style=DescriptionStyle(description_width='initial'), value='Agisoft Photoscan'), Dropdown(description='Камера', layout=Layout(justify_content='center', width='400px'), options=('AVT 3300AUXSD', 'AVT 6600AUXSDWF', 'AVT AHDCH 108', 'JIMI JH012'), style=DescriptionStyle(description_width='initial'), value='AVT 3300AUXSD')), layout=Layout(align_items='center', border='solid 0px', justify_content='center', margin='0px', width='450px')), VBox(children=(HTML(value=\"<div align='center'><font size='4px' face='Arial' color='#0969A2'>Акумулятор</font></div>\"), Dropdown(description='Акумулятор', layout=Layout(justify_content='center', width='400px'), options=('Aladin', 'LiPo', 'Luftera', 'Skywalker X8'), style=DescriptionStyle(description_width='initial'), value='Aladin')), layout=Layout(align_items='center', border='solid 0px', justify_content='center', margin='0px', width='450px')), Button(description='Прорахувати', style=ButtonStyle())), layout=Layout(align_items='center', border='solid 0px', height='530px', justify_content='space-around', padding='20px', width='500px'))), layout=Layout(align_items='stretch', border='solid 1px', justify_content='center', padding='20px'))"
      ]
     },
     "metadata": {},
     "output_type": "display_data"
    }
   ],
   "source": [
    "rb1 = w.Button(\n",
    "    description='Прорахувати',\n",
    "    button_style='', # 'success', 'info', 'warning', 'danger' or ''\n",
    ")\n",
    "\n",
    "rb1.on_click(calculate)\n",
    "\n",
    "all_widgets = w.HBox([w.VBox([rw1, rw2, rw5], layout=bigGroup), w.VBox([rw3, rw4, rb1], layout=bigGroup)],\n",
    "                     layout=allLayout)\n",
    "\n",
    "display(widget_header('Lab 5'))\n",
    "display(widget_header('Drone', bold=False))\n",
    "display(all_widgets)"
   ]
  },
  {
   "cell_type": "code",
   "execution_count": 135,
   "metadata": {},
   "outputs": [],
   "source": [
    "# get_price(body, engine, propellers, cpu, sensor, software, camera, accumulator)"
   ]
  },
  {
   "cell_type": "code",
   "execution_count": null,
   "metadata": {},
   "outputs": [],
   "source": [
    "\n",
    "parts = [['aa', 'baa', 'caa'], ['dgg', 'fgg'], ['1', '2ss'], ['3', '4']]\n",
    "combinations(parts, len(parts)-1)"
   ]
  },
  {
   "cell_type": "code",
   "execution_count": 145,
   "metadata": {},
   "outputs": [],
   "source": [
    "import json\n",
    "with open('data.txt', 'r') as f:\n",
    "    parts = json.load(f)\n",
    "\n",
    "# combinations(parts, len(parts)-1)\n",
    "\n",
    "pparts = []\n",
    "for part in get_keys(parts):\n",
    "    pparts.append(filter_parts(parts, part))"
   ]
  },
  {
   "cell_type": "code",
   "execution_count": 146,
   "metadata": {},
   "outputs": [],
   "source": [
    "combs = combinations(pparts, len(pparts)-1)"
   ]
  },
  {
   "cell_type": "code",
   "execution_count": 158,
   "metadata": {},
   "outputs": [
    {
     "data": {
      "text/plain": [
       "29560"
      ]
     },
     "execution_count": 158,
     "metadata": {},
     "output_type": "execute_result"
    }
   ],
   "source": [
    "get_attribute_sum(combs[0], 'price')"
   ]
  },
  {
   "cell_type": "code",
   "execution_count": null,
   "metadata": {},
   "outputs": [],
   "source": []
  },
  {
   "cell_type": "code",
   "execution_count": null,
   "metadata": {},
   "outputs": [],
   "source": []
  },
  {
   "cell_type": "code",
   "execution_count": null,
   "metadata": {},
   "outputs": [],
   "source": []
  }
 ],
 "metadata": {
  "kernelspec": {
   "display_name": "Python 3",
   "language": "python",
   "name": "python3"
  },
  "language_info": {
   "codemirror_mode": {
    "name": "ipython",
    "version": 3
   },
   "file_extension": ".py",
   "mimetype": "text/x-python",
   "name": "python",
   "nbconvert_exporter": "python",
   "pygments_lexer": "ipython3",
   "version": "3.6.4"
  }
 },
 "nbformat": 4,
 "nbformat_minor": 2
}
