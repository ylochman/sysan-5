{
 "cells": [
  {
   "cell_type": "code",
   "execution_count": 1,
   "metadata": {},
   "outputs": [],
   "source": [
    "# pip unistall ipywidgets\n",
    "# pip install ipywidgets\n",
    "# pip install tabulate\n",
    "# pip install plotly "
   ]
  },
  {
   "cell_type": "code",
   "execution_count": 2,
   "metadata": {},
   "outputs": [],
   "source": [
    "import ipywidgets as w\n",
    "from IPython.display import display, clear_output\n",
    "import json\n",
    "\n",
    "from widgets_utils import *\n",
    "from utils import *\n",
    "\n",
    "with open('data.txt', 'r') as f:\n",
    "    parts = json.load(f)"
   ]
  },
  {
   "cell_type": "markdown",
   "metadata": {},
   "source": [
    "### 1. Requirements"
   ]
  },
  {
   "cell_type": "code",
   "execution_count": 98,
   "metadata": {
    "code_folding": []
   },
   "outputs": [],
   "source": [
    "# Requirements | functions\n",
    "\n",
    "def find_Pareto(parts, restriction):\n",
    "    \n",
    "    def combinations(parts, k):\n",
    "        if k > 1:\n",
    "            comb = [(*x, y) for x in combinations(parts, k-1) for y in parts[k]]\n",
    "            return comb\n",
    "        else:\n",
    "            comb = [(x, y) for x in parts[k-1] for y in parts[k]]\n",
    "            return comb\n",
    "        \n",
    "    def get_attribute_sum(comb, attr):\n",
    "        attr_sum = 0\n",
    "        for part in comb:\n",
    "            attr_sum += list(part.values())[0][attr]\n",
    "        return attr_sum\n",
    "        \n",
    "    new_parts = []\n",
    "    for part in get_keys(parts): #restriction.keys():\n",
    "        particular_parts = filter_parts(parts, part)\n",
    "        for example in particular_parts:\n",
    "            example_satisfies_conditions = True\n",
    "            for attr in restriction[part].keys():\n",
    "                if isinstance(restriction[part][attr], str):\n",
    "                    condition = example[part][attr] == restriction[part][attr]\n",
    "                elif isinstance(restriction[part][attr], tuple):\n",
    "                    min_value, max_value = restriction[part][attr]\n",
    "                    condition = example[part][attr] >= min_value and example[part][attr] <= max_value\n",
    "                elif isinstance(restriction[part][attr], bool):\n",
    "                    condition = not restriction[part][attr] or (example[part][attr] \n",
    "                                                                and restriction[part][attr])\n",
    "                if not condition:\n",
    "                    example_satisfies_conditions = False\n",
    "                    break\n",
    "            if example_satisfies_conditions:\n",
    "                new_parts.append(example)\n",
    "\n",
    "#     print(list(map(lambda part: '{}: {}'.format(part, filter_parts(new_parts, part) != []), get_keys(parts))))\n",
    "    if not all(filter_parts(new_parts, part) != [] for part in get_keys(parts)):\n",
    "        return []\n",
    "        \n",
    "    new_pparts = []\n",
    "    for part in get_keys(new_parts):\n",
    "        new_pparts.append(filter_parts(new_parts, part))\n",
    "    filtered_combinations = []\n",
    "    for comb in combinations(new_pparts, len(new_pparts)-1):\n",
    "        min_cost, max_cost = restriction['Total']['cost']\n",
    "        min_weight, max_weight = restriction['Total']['weight']\n",
    "        comb_cost = get_attribute_sum(comb, 'price')\n",
    "        comb_weight = get_attribute_sum(comb, 'weight')\n",
    "        if comb_cost >= min_cost and comb_cost <= max_cost and \\\n",
    "        comb_weight >= min_weight and comb_weight <= max_weight:\n",
    "            filtered_combinations.append(comb)\n",
    "    return filtered_combinations\n",
    "\n",
    "def analyse(b, parts):\n",
    "    restriction = {}\n",
    "    for key in get_keys(parts):\n",
    "        restriction[key] = {}\n",
    "        \n",
    "    restriction['Body']['material'] = w1.children[1].value\n",
    "    restriction['Body']['portability'] = w1.children[2].value\n",
    "\n",
    "    restriction['Engine']['engine_type'] = w2.children[1].value\n",
    "    restriction['Engine']['number'] = w2.children[2].value\n",
    "    restriction['Engine']['propulsion_type'] = w2.children[3].value\n",
    "    restriction['Propeller']['material'] = w2.children[4].value\n",
    "    restriction['Propeller']['number'] = w2.children[5].value\n",
    "\n",
    "    restriction['Software']['GPS'] = w3.children[1].value\n",
    "    restriction['Software']['AI'] = w3.children[2].value\n",
    "    restriction['Software']['manufacturer'] = w3.children[3].value\n",
    "    restriction['CPU']['frequency'] = w3.children[4].value\n",
    "    restriction['CPU']['num_cores'] = w3.children[5].value\n",
    "    restriction['Sensor']['signal_acceptance_distance'] = w3.children[6].value\n",
    "    restriction['Camera']['resolution'] = w3.children[7].value\n",
    "    restriction['Camera']['angle'] = w3.children[8].value\n",
    "    restriction['Camera']['IR_illumination'] = w3.children[9].value\n",
    "\n",
    "    restriction['Accumulator']['duration'] = w4.children[1].value\n",
    "    restriction['Accumulator']['take_off_weight'] = w4.children[2].value\n",
    "    restriction['Accumulator']['height'] = w4.children[3].value\n",
    "    \n",
    "    restriction['Total'] = {}\n",
    "    restriction['Total']['cost'] = w5.children[1].value\n",
    "    restriction['Total']['weight'] = w5.children[2].value\n",
    "    \n",
    "    Pareto_structures = find_Pareto(parts, restriction)\n",
    "    visualize_structure(b, Pareto_structures, 1)\n",
    "\n",
    "\n",
    "def visualize_structure(b, Pareto_structures, i):\n",
    "    all_widgets = get_template_structures(simplify_data_structure(Pareto_structures))\n",
    "    window_paretto = w.VBox([widget_header('Lab 5', bold=False, face=facefont),\n",
    "        widget_header('Дрон. Множество структур Паретто', bold=False, size=5, face=facefont),\n",
    "        widget_header('(мощность множества: {})'.format(len(Pareto_structures)), bold=False, size=5, face=facefont),\n",
    "        all_widgets], layout=allLayout)\n",
    "    \n",
    "    tab = create_tab(window_requirements, window_paretto, window_priority)\n",
    "    clear_output()\n",
    "    display(tab)"
   ]
  },
  {
   "cell_type": "code",
   "execution_count": 99,
   "metadata": {
    "code_folding": [
     0
    ]
   },
   "outputs": [],
   "source": [
    "# Requirements | Visualization\n",
    "    \n",
    "####################################################################################################\n",
    "# Іміджева складова\n",
    "####################################################################################################\n",
    "w1_widgets = [\n",
    "    widget_typeBox('Материал корпуса', get_part_attr(parts, 'Body', 'material')),\n",
    "    widget_flag('Портативность')\n",
    "]\n",
    "w1 = widget_group('Внешний вид', w1_widgets)\n",
    "\n",
    "####################################################################################################\n",
    "# Механічна складова\n",
    "####################################################################################################\n",
    "w2_widgets = [\n",
    "    widget_typeBox('Тип двигателя', get_part_attr(parts, 'Engine', 'engine_type')),\n",
    "    widget_rangeBoxInt('Число двигателей', *get_boundaries(parts, 'Engine', 'number')),\n",
    "    widget_typeBox('Тип движителя', get_part_attr(parts, 'Engine', 'propulsion_type')),\n",
    "\n",
    "    widget_typeBox('Материал пропеллера', get_part_attr(parts, 'Propeller', 'material')),\n",
    "    widget_rangeBoxInt('Число пропеллеров', *get_boundaries(parts, 'Propeller', 'number')),\n",
    "]\n",
    "w2 = widget_group('Механика', w2_widgets)\n",
    "\n",
    "####################################################################################################\n",
    "# Апаратна складова\n",
    "####################################################################################################\n",
    "w3_widgets = [\n",
    "    widget_flag('Наличие GPS'),\n",
    "    widget_flag('Наличие ИИ'),\n",
    "    widget_typeBox('Производитель ', get_part_attr(parts, 'Software', 'manufacturer')),\n",
    "\n",
    "    widget_rangeBoxFloat('Частота процессора, Гц', *get_boundaries(parts, 'CPU', 'frequency')),\n",
    "    widget_rangeBoxInt('Количество ядер процессора', *get_boundaries(parts, 'CPU', 'num_cores')),\n",
    "\n",
    "    widget_rangeBoxFloat('Дальность приема сигнала, м', *get_boundaries(parts, 'Sensor',\n",
    "                                                                        'signal_acceptance_distance')),\n",
    "\n",
    "    widget_rangeBoxFloat('Разрешение матрицы, Мп', *get_boundaries(parts, 'Camera', 'resolution')),\n",
    "    widget_rangeBoxInt('Угол обзора', *get_boundaries(parts, 'Camera', 'angle')),\n",
    "    widget_rangeBoxInt('Дальность ИК подсветки, м', *get_boundaries(parts, 'Camera', 'IR_illumination')),\n",
    "]\n",
    "w3 = widget_group('Аппаратная составляющая', w3_widgets)\n",
    "\n",
    "####################################################################################################\n",
    "# Акумулятор\n",
    "####################################################################################################\n",
    "w4_widgets = [\n",
    "    widget_rangeBoxInt('Продолжительность полета, мин', *get_boundaries(parts, 'Accumulator', 'duration')),\n",
    "    widget_rangeBoxInt('Взлетная масса, кг', *get_boundaries(parts, 'Accumulator', 'take_off_weight')),\n",
    "    widget_rangeBoxInt('Высота полета, м', *get_boundaries(parts, 'Accumulator', 'height')),\n",
    "]\n",
    "w4 = widget_group('Аккумулятор', w4_widgets)\n",
    "\n",
    "####################################################################################################\n",
    "# Total\n",
    "####################################################################################################\n",
    "w5_widgets = [\n",
    "#     widget_rangeBox('Общая стоимость', 0, 1000),\n",
    "#     widget_rangeBox('Общий вес', 0, 1000)\n",
    "     widget_rangeBoxInt('Стоимость, грн', 0, 30000),\n",
    "     widget_rangeBoxInt('Общий вес, г', 0, 1000),\n",
    "]\n",
    "layout = w.Layout(width='480px', border='solid 0px', margin='10px',\n",
    "                  justify_content='center', align_items='center')\n",
    "w5 = widget_group('', w5_widgets, layout=layout)\n",
    "\n",
    "b1 = w.Button(\n",
    "    description='Анализ',\n",
    "    button_style='', # 'success', 'info', 'warning', 'danger' or ''\n",
    ")\n",
    "\n",
    "b1.on_click(lambda b: analyse(b, parts))\n",
    "all_widgets = w.HBox([w.VBox([w1, w2, w5, b1], layout=bigGroup), w.VBox([w3, w4], layout=bigGroup)])\n",
    "window_requirements = w.VBox([widget_header('Lab 5', bold=False, face=facefont),\n",
    "            widget_header('Дрон. Требования к функциональным элементам', bold=False, size=5, face=facefont),\n",
    "            all_widgets], layout=allLayout) "
   ]
  },
  {
   "cell_type": "markdown",
   "metadata": {},
   "source": [
    "### 2. Paretto set of structures"
   ]
  },
  {
   "cell_type": "code",
   "execution_count": 105,
   "metadata": {
    "code_folding": [
     0
    ]
   },
   "outputs": [],
   "source": [
    "def get_template_structures(combinations):    \n",
    "    if len(combinations) == 0:\n",
    "        all_widgets = w.Label('К сожалению, нет структуры, которая бы удовлетворяла текущие требования.',\n",
    "                       layout=allLayout_without_border)\n",
    "        return all_widgets\n",
    "    \n",
    "    def calculate(rw1, rw2, rw3, rw4, rw5):\n",
    "        rw5.children[1].children[1].value = str(get_price(parts, rw1.children[1].value,\n",
    "                                                          rw2.children[1].value, rw2.children[2].value,\n",
    "                                                          rw3.children[1].value, rw3.children[2].value,\n",
    "                                                          rw3.children[3].value, rw3.children[4].value,\n",
    "                                                          rw4.children[1].value)) + ' грн'\n",
    "        rw5.children[2].children[1].value = str(get_weight(parts, rw1.children[1].value,\n",
    "                                                           rw2.children[1].value, rw2.children[2].value,\n",
    "                                                           rw3.children[1].value, rw3.children[2].value,\n",
    "                                                           rw3.children[3].value, rw3.children[4].value,\n",
    "                                                           rw4.children[1].value)) + ' г'\n",
    "    \n",
    "    ####################################################################################################\n",
    "    # Іміджева складова\n",
    "    ####################################################################################################\n",
    "    rw1_widgets = [\n",
    "        widget_typeBox('Корпус', get_comb_attr(combinations, 'Body', 'name')),\n",
    "    ]\n",
    "\n",
    "    rw1 = widget_group('Внешний вид', rw1_widgets)\n",
    "\n",
    "    ####################################################################################################\n",
    "    # Механічна складова\n",
    "    ####################################################################################################\n",
    "    rw2_widgets = [\n",
    "        widget_typeBox('Двигатели', get_comb_attr(combinations, 'Engine', 'name')),\n",
    "\n",
    "        widget_typeBox('Пропеллеры', get_comb_attr(combinations, 'Propeller', 'name')),\n",
    "    ]\n",
    "    rw2 = widget_group('Механика', rw2_widgets)\n",
    "\n",
    "    ####################################################################################################\n",
    "    # Апаратна складова\n",
    "    ####################################################################################################\n",
    "    rw3_widgets = [\n",
    "        widget_typeBox('Процессор', get_comb_attr(combinations, 'CPU', 'name')),\n",
    "\n",
    "        widget_typeBox('Датчик связи', get_comb_attr(combinations, 'Sensor', 'name')),\n",
    "\n",
    "        widget_typeBox('Программное обеспечение', get_comb_attr(combinations, 'Software', 'name')),\n",
    "        widget_typeBox('Камера', get_comb_attr(combinations, 'Camera', 'name')),\n",
    "    ]\n",
    "    rw3 = widget_group('Аппаратная составляющая', rw3_widgets)\n",
    "\n",
    "    ####################################################################################################\n",
    "    # Акумулятор\n",
    "    ####################################################################################################\n",
    "    rw4_widgets = [\n",
    "        widget_typeBox('Аккумулятор', get_comb_attr(combinations, 'Accumulator', 'name')),\n",
    "    ]\n",
    "    rw4 = widget_group('Аккумулятор', rw4_widgets)\n",
    "\n",
    "    ####################################################################################################\n",
    "    # Total\n",
    "    ####################################################################################################\n",
    "    totalLayout = w.Layout(width='200px', justify_content='flex-end')\n",
    "    rw5_widgets = [\n",
    "          w.HBox([w.Label(value='Общая стоимость:', style=title_style),\n",
    "                  w.Label(value='', style=title_style)], layout=totalLayout),\n",
    "          w.HBox([w.Label(value='Общий вес:', style=title_style),\n",
    "                  w.Label(value='', style=title_style)], layout=totalLayout),\n",
    "    ]\n",
    "    rw5 = widget_group('', rw5_widgets)\n",
    "\n",
    "    rs1 = w.IntSlider(value=1, min=1, max=len(combinations), step=1,\n",
    "                      description='Структура')\n",
    "    \n",
    "    def set_structure(i, rw1, rw2, rw3, rw4, rw5):\n",
    "        i -= 1\n",
    "        rw1.children[1].value = get_comb_attr(combinations, 'Body', 'name')[i]\n",
    "        rw2.children[1].value = get_comb_attr(combinations, 'Engine', 'name')[i]\n",
    "        rw2.children[2].value = get_comb_attr(combinations, 'Propeller', 'name')[i]\n",
    "        rw3.children[1].value = get_comb_attr(combinations, 'CPU', 'name')[i]\n",
    "        rw3.children[2].value = get_comb_attr(combinations, 'Sensor', 'name')[i]\n",
    "        rw3.children[3].value = get_comb_attr(combinations, 'Software', 'name')[i]\n",
    "        rw3.children[4].value = get_comb_attr(combinations, 'Camera', 'name')[i]\n",
    "        rw4.children[1].value = get_comb_attr(combinations, 'Accumulator', 'name')[i]\n",
    "        calculate(rw1, rw2, rw3, rw4, rw5)\n",
    "    \n",
    "    w.interact(lambda x: set_structure(x, rw1, rw2, rw3, rw4, rw5), x=rs1)\n",
    "    \n",
    "    all_widgets = w.HBox([w.VBox([rw1, rw2, rw5], layout=bigGroup),\n",
    "                          w.VBox([rw3, rw4, rs1], layout=bigGroup)],\n",
    "                         layout=allLayout_without_border)\n",
    "    return all_widgets"
   ]
  },
  {
   "cell_type": "code",
   "execution_count": 106,
   "metadata": {},
   "outputs": [],
   "source": [
    "all_widgets = w.Label('')\n",
    "window_paretto = w.VBox([widget_header('Lab 5', bold=False, face=facefont),\n",
    "        widget_header('Дрон. Множество структур Паретто', bold=False, size=5, face=facefont),\n",
    "        all_widgets], layout=allLayout) "
   ]
  },
  {
   "cell_type": "markdown",
   "metadata": {},
   "source": [
    "### 3. Prior requirement"
   ]
  },
  {
   "cell_type": "code",
   "execution_count": 107,
   "metadata": {},
   "outputs": [],
   "source": [
    "all_widgets = w.Label('')\n",
    "window_priority = w.VBox([widget_header('Lab 5', bold=False, face=facefont),\n",
    "        widget_header('Дрон. Приоритетное требование', bold=False, size=5, face=facefont),\n",
    "        all_widgets], layout=allLayout) "
   ]
  },
  {
   "cell_type": "code",
   "execution_count": 108,
   "metadata": {},
   "outputs": [],
   "source": [
    "def create_tab(window_requirements, window_paretto, window_priority):\n",
    "    tab_titles = ['Требования', 'Множество структур Паретто', 'Приоритетное требование']\n",
    "    children = [window_requirements, window_paretto, window_priority]\n",
    "    tab = w.Tab()\n",
    "    tab.children = children\n",
    "    for i in range(len(children)):\n",
    "        tab.set_title(i, tab_titles[i])\n",
    "    return tab"
   ]
  },
  {
   "cell_type": "code",
   "execution_count": 109,
   "metadata": {
    "scrolled": false
   },
   "outputs": [
    {
     "data": {
      "application/vnd.jupyter.widget-view+json": {
       "model_id": "963fc4096fde4c66a931ce2461c9ca46",
       "version_major": 2,
       "version_minor": 0
      },
      "text/html": [
       "<p>Failed to display Jupyter Widget of type <code>Tab</code>.</p>\n",
       "<p>\n",
       "  If you're reading this message in the Jupyter Notebook or JupyterLab Notebook, it may mean\n",
       "  that the widgets JavaScript is still loading. If this message persists, it\n",
       "  likely means that the widgets JavaScript library is either not installed or\n",
       "  not enabled. See the <a href=\"https://ipywidgets.readthedocs.io/en/stable/user_install.html\">Jupyter\n",
       "  Widgets Documentation</a> for setup instructions.\n",
       "</p>\n",
       "<p>\n",
       "  If you're reading this message in another frontend (for example, a static\n",
       "  rendering on GitHub or <a href=\"https://nbviewer.jupyter.org/\">NBViewer</a>),\n",
       "  it may mean that your frontend doesn't currently support widgets.\n",
       "</p>\n"
      ],
      "text/plain": [
       "Tab(children=(VBox(children=(HTML(value=\"<div align='center'><font size='6px' face='Arial' color='#0969A2'>Lab 5</font></div>\"), HTML(value=\"<div align='center'><font size='5px' face='Arial' color='#0969A2'>Дрон. Требования к функциональным элементам</font></div>\"), HBox(children=(VBox(children=(VBox(children=(HTML(value=\"<div align='center'><font size='4px' face='Arial' color='#0969A2'>Внешний вид</font></div>\"), Dropdown(description='Материал корпуса', index=3, layout=Layout(justify_content='center', width='400px'), options=('Волоконный композит', 'Кевлар', 'Углепластика', 'Экструдированный пенополистирол'), style=DescriptionStyle(description_width='initial'), value='Экструдированный пенополистирол'), Checkbox(value=False, description='Портативность', style=DescriptionStyle(description_width='initial'))), layout=Layout(align_items='center', border='solid 0px', justify_content='center', margin='0px', width='450px')), VBox(children=(HTML(value=\"<div align='center'><font size='4px' face='Arial' color='#0969A2'>Механика</font></div>\"), Dropdown(description='Тип двигателя', layout=Layout(justify_content='center', width='400px'), options=('Бесколлекторный электродвигатель', 'Коллекторный электродвигатель', 'Электродвигатель'), style=DescriptionStyle(description_width='initial'), value='Бесколлекторный электродвигатель'), FloatRangeSlider(value=(2.0, 5.0), continuous_update=False, description='Число двигателей', layout=Layout(justify_content='flex-start', width='400px'), max=6.0, min=2.0, readout_format='d', step=1.0, style=SliderStyle(description_width='initial')), Dropdown(description='Тип движителя', layout=Layout(justify_content='center', width='400px'), options=('Винт', 'Реактивная тяга'), style=DescriptionStyle(description_width='initial'), value='Винт'), Dropdown(description='Материал пропеллера', layout=Layout(justify_content='center', width='400px'), options=('Волоконный композит', 'Карбон'), style=DescriptionStyle(description_width='initial'), value='Волоконный композит'), FloatRangeSlider(value=(2.0, 5.0), continuous_update=False, description='Число пропеллеров', layout=Layout(justify_content='flex-start', width='400px'), max=6.0, min=2.0, readout_format='d', step=1.0, style=SliderStyle(description_width='initial'))), layout=Layout(align_items='center', border='solid 0px', justify_content='center', margin='0px', width='450px')), VBox(children=(HTML(value=\"<div align='center'><font size='4px' face='Arial' color='#0969A2'></font></div>\"), FloatRangeSlider(value=(0.0, 30000.0), continuous_update=False, description='Стоимость, грн', layout=Layout(justify_content='flex-start', width='400px'), max=30000.0, readout_format='d', step=1.0, style=SliderStyle(description_width='initial')), FloatRangeSlider(value=(0.0, 1000.0), continuous_update=False, description='Общий вес, г', layout=Layout(justify_content='flex-start', width='400px'), max=1000.0, readout_format='d', step=1.0, style=SliderStyle(description_width='initial'))), layout=Layout(align_items='center', border='solid 0px', justify_content='center', margin='10px', width='480px')), Button(description='Анализ', style=ButtonStyle())), layout=Layout(align_items='center', border='solid 0px', height='530px', justify_content='space-around', padding='20px', width='500px')), VBox(children=(VBox(children=(HTML(value=\"<div align='center'><font size='4px' face='Arial' color='#0969A2'>Аппаратная составляющая</font></div>\"), Checkbox(value=False, description='Наличие GPS', style=DescriptionStyle(description_width='initial')), Checkbox(value=False, description='Наличие ИИ', style=DescriptionStyle(description_width='initial')), Dropdown(description='Производитель ', layout=Layout(justify_content='center', width='400px'), options=('Agisoft', 'Harris Geospatial Solutions', 'Trimble'), style=DescriptionStyle(description_width='initial'), value='Agisoft'), FloatRangeSlider(value=(2.1, 3.0), continuous_update=False, description='Частота процессора, Гц', layout=Layout(justify_content='flex-start', width='400px'), max=3.0, min=1.6, readout_format='.1f', style=SliderStyle(description_width='initial')), FloatRangeSlider(value=(5.0, 8.0), continuous_update=False, description='Количество ядер процессора', layout=Layout(justify_content='flex-start', width='400px'), max=8.0, min=4.0, readout_format='d', step=1.0, style=SliderStyle(description_width='initial')), FloatRangeSlider(value=(1.2, 3.0), continuous_update=False, description='Дальность приема сигнала, м', layout=Layout(justify_content='flex-start', width='400px'), max=3.0, min=0.5, readout_format='.1f', style=SliderStyle(description_width='initial')), FloatRangeSlider(value=(1.9, 2.4), continuous_update=False, description='Разрешение матрицы, Мп', layout=Layout(justify_content='flex-start', width='400px'), max=2.4, min=1.5, readout_format='.1f', style=SliderStyle(description_width='initial')), FloatRangeSlider(value=(136.0, 180.0), continuous_update=False, description='Угол обзора', layout=Layout(justify_content='flex-start', width='400px'), max=180.0, min=90.0, readout_format='d', step=1.0, style=SliderStyle(description_width='initial')), FloatRangeSlider(value=(18.0, 35.0), continuous_update=False, description='Дальность ИК подсветки, м', layout=Layout(justify_content='flex-start', width='400px'), max=35.0, min=10.0, readout_format='d', step=1.0, style=SliderStyle(description_width='initial'))), layout=Layout(align_items='center', border='solid 0px', justify_content='center', margin='0px', width='450px')), VBox(children=(HTML(value=\"<div align='center'><font size='4px' face='Arial' color='#0969A2'>Аккумулятор</font></div>\"), FloatRangeSlider(value=(60.0, 360.0), continuous_update=False, description='Продолжительность полета, мин', layout=Layout(justify_content='flex-start', width='400px'), max=360.0, min=60.0, readout_format='d', step=1.0, style=SliderStyle(description_width='initial')), FloatRangeSlider(value=(4.0, 10.0), continuous_update=False, description='Взлетная масса, кг', layout=Layout(justify_content='flex-start', width='400px'), max=10.0, min=4.0, readout_format='d', step=1.0, style=SliderStyle(description_width='initial')), FloatRangeSlider(value=(150.0, 1200.0), continuous_update=False, description='Высота полета, м', layout=Layout(justify_content='flex-start', width='400px'), max=1200.0, min=150.0, readout_format='d', step=1.0, style=SliderStyle(description_width='initial'))), layout=Layout(align_items='center', border='solid 0px', justify_content='center', margin='0px', width='450px'))), layout=Layout(align_items='center', border='solid 0px', height='530px', justify_content='space-around', padding='20px', width='500px'))))), layout=Layout(align_items='stretch', border='solid 1px', justify_content='center', padding='20px')), VBox(children=(HTML(value=\"<div align='center'><font size='6px' face='Arial' color='#0969A2'>Lab 5</font></div>\"), HTML(value=\"<div align='center'><font size='5px' face='Arial' color='#0969A2'>Дрон. Множество структур Паретто</font></div>\"), HTML(value=\"<div align='center'><font size='5px' face='Arial' color='#0969A2'>(мощность множества: 32)</font></div>\"), HBox(children=(VBox(children=(VBox(children=(HTML(value=\"<div align='center'><font size='4px' face='Arial' color='#0969A2'>Внешний вид</font></div>\"), Dropdown(description='Корпус', layout=Layout(justify_content='center', width='400px'), options=('Hubsan H501S', 'Hubsan H501S', 'Hubsan H501S', 'Hubsan H501S', 'Hubsan H501S', 'Hubsan H501S', 'Hubsan H501S', 'Hubsan H501S', 'Hubsan H501S', 'Hubsan H501S', 'Hubsan H501S', 'Hubsan H501S', 'Hubsan H501S', 'Hubsan H501S', 'Hubsan H501S', 'Hubsan H501S', 'Hubsan H501S', 'Hubsan H501S', 'Hubsan H501S', 'Hubsan H501S', 'Hubsan H501S', 'Hubsan H501S', 'Hubsan H501S', 'Hubsan H501S', 'Hubsan H501S', 'Hubsan H501S', 'Hubsan H501S', 'Hubsan H501S', 'Hubsan H501S', 'Hubsan H501S', 'Hubsan H501S', 'Hubsan H501S'), style=DescriptionStyle(description_width='initial'), value='Hubsan H501S')), layout=Layout(align_items='center', border='solid 0px', justify_content='center', margin='0px', width='450px')), VBox(children=(HTML(value=\"<div align='center'><font size='4px' face='Arial' color='#0969A2'>Механика</font></div>\"), Dropdown(description='Двигатели', layout=Layout(justify_content='center', width='400px'), options=('Syma NHYDXS', 'Syma NHYDXS', 'Syma NHYDXS', 'Syma NHYDXS', 'Syma NHYDXS', 'Syma NHYDXS', 'Syma NHYDXS', 'Syma NHYDXS', 'Syma NHYDXS', 'Syma NHYDXS', 'Syma NHYDXS', 'Syma NHYDXS', 'Syma NHYDXS', 'Syma NHYDXS', 'Syma NHYDXS', 'Syma NHYDXS', 'Syma NHYDXS', 'Syma NHYDXS', 'Syma NHYDXS', 'Syma NHYDXS', 'Syma NHYDXS', 'Syma NHYDXS', 'Syma NHYDXS', 'Syma NHYDXS', 'Syma NHYDXS', 'Syma NHYDXS', 'Syma NHYDXS', 'Syma NHYDXS', 'Syma NHYDXS', 'Syma NHYDXS', 'Syma NHYDXS', 'Syma NHYDXS'), style=DescriptionStyle(description_width='initial'), value='Syma NHYDXS'), Dropdown(description='Пропеллеры', layout=Layout(justify_content='center', width='400px'), options=('Phantom 3', 'Phantom 3', 'Phantom 3', 'Phantom 3', 'Phantom 3', 'Phantom 3', 'Phantom 3', 'Phantom 3', 'Phantom 3', 'Phantom 3', 'Phantom 3', 'Phantom 3', 'Phantom 3', 'Phantom 3', 'Phantom 3', 'Phantom 3', 'Phantom 3', 'Phantom 3', 'Phantom 3', 'Phantom 3', 'Phantom 3', 'Phantom 3', 'Phantom 3', 'Phantom 3', 'Phantom 3', 'Phantom 3', 'Phantom 3', 'Phantom 3', 'Phantom 3', 'Phantom 3', 'Phantom 3', 'Phantom 3'), style=DescriptionStyle(description_width='initial'), value='Phantom 3')), layout=Layout(align_items='center', border='solid 0px', justify_content='center', margin='0px', width='450px')), VBox(children=(HTML(value=\"<div align='center'><font size='4px' face='Arial' color='#0969A2'></font></div>\"), HBox(children=(Label(value='Общая стоимость:', style=DescriptionStyle(description_width='initial')), Label(value='16790 грн', style=DescriptionStyle(description_width='initial'))), layout=Layout(justify_content='flex-end', width='200px')), HBox(children=(Label(value='Общий вес:', style=DescriptionStyle(description_width='initial')), Label(value='990 г', style=DescriptionStyle(description_width='initial'))), layout=Layout(justify_content='flex-end', width='200px'))), layout=Layout(align_items='center', border='solid 0px', justify_content='center', margin='0px', width='450px'))), layout=Layout(align_items='center', border='solid 0px', height='530px', justify_content='space-around', padding='20px', width='500px')), VBox(children=(VBox(children=(HTML(value=\"<div align='center'><font size='4px' face='Arial' color='#0969A2'>Аппаратная составляющая</font></div>\"), Dropdown(description='Процессор', layout=Layout(justify_content='center', width='400px'), options=('DSP C66x', 'DSP C66x', 'DSP C66x', 'DSP C66x', 'DSP C66x', 'DSP C66x', 'DSP C66x', 'DSP C66x', 'DSP C66x', 'DSP C66x', 'DSP C66x', 'DSP C66x', 'DSP C66x', 'DSP C66x', 'DSP C66x', 'DSP C66x', 'DSP А871', 'DSP А871', 'DSP А871', 'DSP А871', 'DSP А871', 'DSP А871', 'DSP А871', 'DSP А871', 'DSP А871', 'DSP А871', 'DSP А871', 'DSP А871', 'DSP А871', 'DSP А871', 'DSP А871', 'DSP А871'), style=DescriptionStyle(description_width='initial'), value='DSP C66x'), Dropdown(description='Датчик связи', layout=Layout(justify_content='center', width='400px'), options=('VDI/VDE 3845', 'VDI/VDE 3845', 'DIN EN', 'DIN EN', 'VDI/VDE 3845', 'VDI/VDE 3845', 'DIN EN', 'DIN EN', 'VDI/VDE 3845', 'VDI/VDE 3845', 'DIN EN', 'DIN EN', 'VDI/VDE 3845', 'VDI/VDE 3845', 'DIN EN', 'DIN EN', 'VDI/VDE 3845', 'VDI/VDE 3845', 'DIN EN', 'DIN EN', 'VDI/VDE 3845', 'VDI/VDE 3845', 'DIN EN', 'DIN EN', 'VDI/VDE 3845', 'VDI/VDE 3845', 'DIN EN', 'DIN EN', 'VDI/VDE 3845', 'VDI/VDE 3845', 'DIN EN', 'DIN EN'), style=DescriptionStyle(description_width='initial'), value='VDI/VDE 3845'), Dropdown(description='Программное обеспечение', layout=Layout(justify_content='center', width='400px'), options=('Agisoft Photoscan', 'Agisoft Photoscan', 'Agisoft Photoscan', 'Agisoft Photoscan', 'Agisoft Photoscan', 'Agisoft Photoscan', 'Agisoft Photoscan', 'Agisoft Photoscan', 'Agisoft Photoscan', 'Agisoft Photoscan', 'Agisoft Photoscan', 'Agisoft Photoscan', 'Agisoft Photoscan', 'Agisoft Photoscan', 'Agisoft Photoscan', 'Agisoft Photoscan', 'Agisoft Photoscan', 'Agisoft Photoscan', 'Agisoft Photoscan', 'Agisoft Photoscan', 'Agisoft Photoscan', 'Agisoft Photoscan', 'Agisoft Photoscan', 'Agisoft Photoscan', 'Agisoft Photoscan', 'Agisoft Photoscan', 'Agisoft Photoscan', 'Agisoft Photoscan', 'Agisoft Photoscan', 'Agisoft Photoscan', 'Agisoft Photoscan', 'Agisoft Photoscan'), style=DescriptionStyle(description_width='initial'), value='Agisoft Photoscan'), Dropdown(description='Камера', layout=Layout(justify_content='center', width='400px'), options=('AVT 6600AUXSDWF', 'AVT AHDCH 108', 'AVT 6600AUXSDWF', 'AVT AHDCH 108', 'AVT 6600AUXSDWF', 'AVT AHDCH 108', 'AVT 6600AUXSDWF', 'AVT AHDCH 108', 'AVT 6600AUXSDWF', 'AVT AHDCH 108', 'AVT 6600AUXSDWF', 'AVT AHDCH 108', 'AVT 6600AUXSDWF', 'AVT AHDCH 108', 'AVT 6600AUXSDWF', 'AVT AHDCH 108', 'AVT 6600AUXSDWF', 'AVT AHDCH 108', 'AVT 6600AUXSDWF', 'AVT AHDCH 108', 'AVT 6600AUXSDWF', 'AVT AHDCH 108', 'AVT 6600AUXSDWF', 'AVT AHDCH 108', 'AVT 6600AUXSDWF', 'AVT AHDCH 108', 'AVT 6600AUXSDWF', 'AVT AHDCH 108', 'AVT 6600AUXSDWF', 'AVT AHDCH 108', 'AVT 6600AUXSDWF', 'AVT AHDCH 108'), style=DescriptionStyle(description_width='initial'), value='AVT 6600AUXSDWF')), layout=Layout(align_items='center', border='solid 0px', justify_content='center', margin='0px', width='450px')), VBox(children=(HTML(value=\"<div align='center'><font size='4px' face='Arial' color='#0969A2'>Аккумулятор</font></div>\"), Dropdown(description='Аккумулятор', layout=Layout(justify_content='center', width='400px'), options=('Luftera', 'Luftera', 'Luftera', 'Luftera', 'Aladin', 'Aladin', 'Aladin', 'Aladin', 'LiPo', 'LiPo', 'LiPo', 'LiPo', 'Skywalker X8', 'Skywalker X8', 'Skywalker X8', 'Skywalker X8', 'Luftera', 'Luftera', 'Luftera', 'Luftera', 'Aladin', 'Aladin', 'Aladin', 'Aladin', 'LiPo', 'LiPo', 'LiPo', 'LiPo', 'Skywalker X8', 'Skywalker X8', 'Skywalker X8', 'Skywalker X8'), style=DescriptionStyle(description_width='initial'), value='Luftera')), layout=Layout(align_items='center', border='solid 0px', justify_content='center', margin='0px', width='450px')), IntSlider(value=1, description='Структура', max=32, min=1)), layout=Layout(align_items='center', border='solid 0px', height='530px', justify_content='space-around', padding='20px', width='500px'))), layout=Layout(align_items='stretch', border='solid 0px', justify_content='center', padding='20px'))), layout=Layout(align_items='stretch', border='solid 1px', justify_content='center', padding='20px')), VBox(children=(HTML(value=\"<div align='center'><font size='6px' face='Arial' color='#0969A2'>Lab 5</font></div>\"), HTML(value=\"<div align='center'><font size='5px' face='Arial' color='#0969A2'>Дрон. Приоритетное требование</font></div>\"), Label(value='')), layout=Layout(align_items='stretch', border='solid 1px', justify_content='center', padding='20px'))), _titles={'0': 'Требования', '1': 'Множество структур Паретто', '2': 'Приоритетное требование'})"
      ]
     },
     "metadata": {},
     "output_type": "display_data"
    }
   ],
   "source": [
    "tab = create_tab(window_requirements, window_paretto, window_priority)\n",
    "display(tab)"
   ]
  },
  {
   "cell_type": "markdown",
   "metadata": {},
   "source": [
    "### Ответ"
   ]
  },
  {
   "cell_type": "code",
   "execution_count": 10,
   "metadata": {
    "code_folding": []
   },
   "outputs": [
    {
     "data": {
      "application/vnd.jupyter.widget-view+json": {
       "model_id": "e46e9b89ce934932b6e936f11e1fa61f",
       "version_major": 2,
       "version_minor": 0
      },
      "text/html": [
       "<p>Failed to display Jupyter Widget of type <code>HBox</code>.</p>\n",
       "<p>\n",
       "  If you're reading this message in the Jupyter Notebook or JupyterLab Notebook, it may mean\n",
       "  that the widgets JavaScript is still loading. If this message persists, it\n",
       "  likely means that the widgets JavaScript library is either not installed or\n",
       "  not enabled. See the <a href=\"https://ipywidgets.readthedocs.io/en/stable/user_install.html\">Jupyter\n",
       "  Widgets Documentation</a> for setup instructions.\n",
       "</p>\n",
       "<p>\n",
       "  If you're reading this message in another frontend (for example, a static\n",
       "  rendering on GitHub or <a href=\"https://nbviewer.jupyter.org/\">NBViewer</a>),\n",
       "  it may mean that your frontend doesn't currently support widgets.\n",
       "</p>\n"
      ],
      "text/plain": [
       "HBox(children=(VBox(children=(VBox(children=(HTML(value=\"<div align='center'><font size='4px' face='Arial' color='#0969A2'>Зовнішній вигляд</font></div>\"), Dropdown(description='Корпус', layout=Layout(justify_content='center', width='400px'), options=('AgDrone',), style=DescriptionStyle(description_width='initial'), value='AgDrone')), layout=Layout(align_items='center', border='solid 0px', justify_content='center', margin='0px', width='450px')), VBox(children=(HTML(value=\"<div align='center'><font size='4px' face='Arial' color='#0969A2'>Механіка</font></div>\"), Dropdown(description='Двигуни', layout=Layout(justify_content='center', width='400px'), options=('Syma NHYDXS',), style=DescriptionStyle(description_width='initial'), value='Syma NHYDXS'), Dropdown(description='Проперели', layout=Layout(justify_content='center', width='400px'), options=('Phantom 3',), style=DescriptionStyle(description_width='initial'), value='Phantom 3')), layout=Layout(align_items='center', border='solid 0px', justify_content='center', margin='0px', width='450px')), VBox(children=(HTML(value=\"<div align='center'><font size='4px' face='Arial' color='#0969A2'></font></div>\"), HBox(children=(Label(value='Загальна вартість:', style=DescriptionStyle(description_width='initial')), Label(value='20770 грн', style=DescriptionStyle(description_width='initial'))), layout=Layout(justify_content='flex-end', width='200px')), HBox(children=(Label(value='Загальна вага:', style=DescriptionStyle(description_width='initial')), Label(value='940 г', style=DescriptionStyle(description_width='initial'))), layout=Layout(justify_content='flex-end', width='200px'))), layout=Layout(align_items='center', border='solid 0px', justify_content='center', margin='0px', width='450px'))), layout=Layout(align_items='center', border='solid 0px', height='530px', justify_content='space-around', padding='20px', width='500px')), VBox(children=(VBox(children=(HTML(value=\"<div align='center'><font size='4px' face='Arial' color='#0969A2'>Апаратна складова</font></div>\"), Dropdown(description='Процесор', layout=Layout(justify_content='center', width='400px'), options=('TMS320C6678',), style=DescriptionStyle(description_width='initial'), value='TMS320C6678'), Dropdown(description=\"Датчик зв'язку\", layout=Layout(justify_content='center', width='400px'), options=('Namur',), style=DescriptionStyle(description_width='initial'), value='Namur'), Dropdown(description='Програмне забезпечення', layout=Layout(justify_content='center', width='400px'), options=('Agisoft Photoscan',), style=DescriptionStyle(description_width='initial'), value='Agisoft Photoscan'), Dropdown(description='Камера', layout=Layout(justify_content='center', width='400px'), options=('AVT 6600AUXSDWF',), style=DescriptionStyle(description_width='initial'), value='AVT 6600AUXSDWF')), layout=Layout(align_items='center', border='solid 0px', justify_content='center', margin='0px', width='450px')), VBox(children=(HTML(value=\"<div align='center'><font size='4px' face='Arial' color='#0969A2'>Акумулятор</font></div>\"), Dropdown(description='Акумулятор', layout=Layout(justify_content='center', width='400px'), options=('Luftera',), style=DescriptionStyle(description_width='initial'), value='Luftera')), layout=Layout(align_items='center', border='solid 0px', justify_content='center', margin='0px', width='450px')), Button(description='Прорахувати', style=ButtonStyle())), layout=Layout(align_items='center', border='solid 0px', height='530px', justify_content='space-around', padding='20px', width='500px'))), layout=Layout(align_items='stretch', border='solid 0px', justify_content='center', padding='20px'))"
      ]
     },
     "metadata": {},
     "output_type": "display_data"
    }
   ],
   "source": [
    "combinations = [({'Accumulator': {'name': 'Luftera', 'price': 1400, 'weight': 200, 'duration': 360,\n",
    "                                  'take_off_weight': 5, 'height': 150}},\n",
    "                 {'Software': {'name': 'Agisoft Photoscan', 'price': 360, 'weight': 0, 'GPS': True,\n",
    "                               'AI': False, 'manufacturer': 'Agisoft'}},\n",
    "                 {'Propeller': {'name': 'Phantom 3', 'price': 200, 'weight': 30,\n",
    "                                'material': 'Волоконный композит', 'number': 2}},\n",
    "                 {'Camera': {'name': 'AVT 6600AUXSDWF', 'price': 1750, 'weight': 200, 'resolution': 2.4, \n",
    "                             'angle': 180, 'IR_illumination': 35}}, \n",
    "                 {'Sensor': {'name': 'Namur', 'price': 0, 'weight': 0, \n",
    "                             'signal_acceptance_distance': 1}}, \n",
    "                 {'Engine': {'name': 'Syma NHYDXS', 'price': 1600, 'weight': 330, \n",
    "                             'engine_type': 'Бесколлекторный электродвигатель', 'number': 2, \n",
    "                             'propulsion_type': 'Винт'}}, \n",
    "                 {'CPU': {'name': 'TMS320C6678', 'price': 460, 'weight': 0, \n",
    "                          'frequency': 1.8, 'num_cores': 6}}, \n",
    "                 {'Body': {'name': 'AgDrone', 'price': 15000, 'weight': 180, \n",
    "                           'portability': True, 'material': 'Волоконный композит'}})]\n",
    "\n",
    "def simplify_data_structure(combinations):\n",
    "    new_combinations = []\n",
    "    for combination in combinations:\n",
    "        new_combination = {}\n",
    "        for element in combination:\n",
    "            new_combination[list(element.keys())[0]] = list(element.values())[0]\n",
    "        new_combinations.append(new_combination)\n",
    "    return new_combinations\n",
    "\n",
    "combinations = simplify_data_structure(combinations)\n",
    "display(get_template_structure(combinations))"
   ]
  },
  {
   "cell_type": "code",
   "execution_count": null,
   "metadata": {},
   "outputs": [],
   "source": [
    "parts = [['aa', 'baa', 'caa'], ['dgg', 'fgg'], ['1', '2ss'], ['3', '4']]\n",
    "combinations(parts, len(parts)-1)"
   ]
  },
  {
   "cell_type": "code",
   "execution_count": 145,
   "metadata": {},
   "outputs": [],
   "source": [
    "import json\n",
    "with open('data.txt', 'r') as f:\n",
    "    parts = json.load(f)\n",
    "\n",
    "# combinations(parts, len(parts)-1)\n",
    "\n",
    "pparts = []\n",
    "for part in get_keys(parts):\n",
    "    pparts.append(filter_parts(parts, part))"
   ]
  },
  {
   "cell_type": "code",
   "execution_count": 146,
   "metadata": {},
   "outputs": [],
   "source": [
    "combs = combinations(pparts, len(pparts)-1)"
   ]
  },
  {
   "cell_type": "code",
   "execution_count": 158,
   "metadata": {},
   "outputs": [
    {
     "data": {
      "text/plain": [
       "29560"
      ]
     },
     "execution_count": 158,
     "metadata": {},
     "output_type": "execute_result"
    }
   ],
   "source": [
    "get_attribute_sum(combs[0], 'price')"
   ]
  },
  {
   "cell_type": "code",
   "execution_count": null,
   "metadata": {},
   "outputs": [],
   "source": []
  },
  {
   "cell_type": "code",
   "execution_count": null,
   "metadata": {},
   "outputs": [],
   "source": []
  },
  {
   "cell_type": "code",
   "execution_count": null,
   "metadata": {},
   "outputs": [],
   "source": []
  }
 ],
 "metadata": {
  "kernelspec": {
   "display_name": "Python 3",
   "language": "python",
   "name": "python3"
  },
  "language_info": {
   "codemirror_mode": {
    "name": "ipython",
    "version": 3
   },
   "file_extension": ".py",
   "mimetype": "text/x-python",
   "name": "python",
   "nbconvert_exporter": "python",
   "pygments_lexer": "ipython3",
   "version": "3.6.4"
  }
 },
 "nbformat": 4,
 "nbformat_minor": 2
}
