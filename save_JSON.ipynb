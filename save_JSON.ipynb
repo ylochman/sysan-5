{
 "cells": [
  {
   "cell_type": "code",
   "execution_count": 8,
   "metadata": {},
   "outputs": [],
   "source": [
    "import json\n",
    "\n",
    "from utils import *"
   ]
  },
  {
   "cell_type": "code",
   "execution_count": 9,
   "metadata": {},
   "outputs": [],
   "source": [
    "bodies = [\n",
    "Body('AgDrone', 15000, 180, True, 'Волоконный композит'),\n",
    "Body('Hubsan H501S', 10500, 230, True, 'Экструдированный пенополистирол'),\n",
    "Body('Raytheon', 7000, 300, False, 'Кевлар'),\n",
    "Body('Тахион', 8000, 450, False, 'Углепластика'),\n",
    "# NEW\n",
    "Body('Hubsan H551O', 9000, 380, False, 'Экструдированный пенополистирол'),\n",
    "Body('Hubsan H818J', 13000, 550, True, 'Углепластика'),\n",
    "]\n",
    "\n",
    "engines = [\n",
    "Engine('DJI SPARK', 10000, 160, 'Бесколлекторный электродвигатель', 6, 'Реактивная тяга'),\n",
    "Engine('WL Toys WL-Q282Jw', 8000, 200, 'Коллекторный электродвигатель', 4, 'Реактивная тяга'),\n",
    "Engine('Syma X5SW ', 5000, 320, 'Электродвигатель', 4, 'Винт'),\n",
    "Engine('Syma X8HW' , 1000, 130, 'Электродвигатель', 2, 'Винт'),\n",
    "# NEW\n",
    "Engine('Syma NHYDXS' , 1600, 330, 'Бесколлекторный электродвигатель', 2, 'Винт'),\n",
    "Engine('Rotron LAZ29' , 1000, 250, 'Электродвигатель', 4, 'Реактивная тяга'),\n",
    "Engine('Rotron VVMH7' , 10000, 130, 'Коллекторный электродвигатель', 2, 'Реактивная тяга'),\n",
    "Engine('Rotron Y3TKO' , 7000, 300, 'Коллекторный электродвигатель', 6, 'Винт'),\n",
    "    \n",
    "]\n",
    "\n",
    "propellers = [\n",
    "Propeller('Phantom 3', 200, 30, 'Волоконный композит', 2),\n",
    "Propeller('DJI Inspire 2', 150, 50, 'Карбон', 2),\n",
    "Propeller('DJI 9450 CW', 240, 130, 'Карбон', 6),\n",
    "Propeller('AEE Propeller', 245, 75, 'Карбон', 4),\n",
    "# NEW\n",
    "Propeller('Phantom 5', 245, 50, 'Волоконный композит', 4),\n",
    "Propeller('Phantom 1', 150, 130, 'Волоконный композит', 6),\n",
    "Propeller('AEE N7638', 240, 75, 'Волоконный композит', 4),\n",
    "]\n",
    "\n",
    "softs = [\n",
    "Software('ENVI OneButton', 750, True, True, 'Harris Geospatial Solutions'),\n",
    "Software('UASMaster', 640, True, True, 'Trimble'),\n",
    "Software('Agisoft Photoscan', 360, True, False, 'Agisoft'),\n",
    "Software('PHOTOMOD UAS', 260, False, False, 'Trimble'),\n",
    "]\n",
    "\n",
    "cpus = [\n",
    "CPU('TMS320C6678', 460, 1.8, 6),\n",
    "CPU('DSP C66x', 980, 2.7, 8),\n",
    "CPU('C6678', 145, 1.6, 4),\n",
    "CPU('DSP А871', 750, 3, 8),\n",
    "]\n",
    "\n",
    "sensors = [\n",
    "Sensor('Namur', 1),\n",
    "Sensor('VDI/VDE 3845', 2),\n",
    "Sensor('DIN EN', 3),\n",
    "Sensor('ATEX', 0.5),\n",
    "]\n",
    "\n",
    "cameras = [\n",
    "Camera('AVT 6600AUXSDWF', 1750, 2.4, 180, 35),\n",
    "Camera('AVT AHDCH 108', 1200, 2, 180, 18),\n",
    "Camera('JIMI JH012', 980, 2.4, 105, 15),\n",
    "Camera('AVT 3300AUXSD', 330, 1.5, 90, 10),\n",
    "]\n",
    "\n",
    "accs = [\n",
    "Accumulator('Luftera', 1400, 360, 5, 150),\n",
    "Accumulator('Aladin', 800, 60, 4, 300),\n",
    "Accumulator('LiPo', 600, 120, 10, 400),\n",
    "Accumulator('Skywalker X8', 2100, 240, 8, 1200),\n",
    "]"
   ]
  },
  {
   "cell_type": "code",
   "execution_count": 10,
   "metadata": {},
   "outputs": [],
   "source": [
    "parts = []\n",
    "for part in [*bodies, *engines, *propellers, *softs, *cpus, *sensors, *cameras, *accs]:\n",
    "    parts.append({part.__class__.__name__:part.__dict__})\n",
    "    \n",
    "with open('data.txt', 'w') as f:\n",
    "    json.dump(parts, f)"
   ]
  },
  {
   "cell_type": "markdown",
   "metadata": {},
   "source": [
    "---"
   ]
  },
  {
   "cell_type": "code",
   "execution_count": 10,
   "metadata": {},
   "outputs": [],
   "source": [
    "with open('data.txt', 'r') as f:\n",
    "    parts = json.load(f)"
   ]
  },
  {
   "cell_type": "code",
   "execution_count": 11,
   "metadata": {},
   "outputs": [
    {
     "data": {
      "text/plain": [
       "['Волоконный композит',\n",
       " 'Кевлар',\n",
       " 'Углепластика',\n",
       " 'Экструдированный пенополистирол']"
      ]
     },
     "execution_count": 11,
     "metadata": {},
     "output_type": "execute_result"
    }
   ],
   "source": [
    "get_part_attr(parts, 'Body', 'material')"
   ]
  },
  {
   "cell_type": "code",
   "execution_count": 16,
   "metadata": {},
   "outputs": [
    {
     "data": {
      "text/plain": [
       "{'Accumulator',\n",
       " 'Body',\n",
       " 'CPU',\n",
       " 'Camera',\n",
       " 'Engine',\n",
       " 'Propeller',\n",
       " 'Sensor',\n",
       " 'Software'}"
      ]
     },
     "execution_count": 16,
     "metadata": {},
     "output_type": "execute_result"
    }
   ],
   "source": [
    "def get_keys(parts):\n",
    "    return set(map(lambda part: list(part.keys())[0], parts))"
   ]
  },
  {
   "cell_type": "code",
   "execution_count": null,
   "metadata": {},
   "outputs": [],
   "source": []
  }
 ],
 "metadata": {
  "kernelspec": {
   "display_name": "Python 3",
   "language": "python",
   "name": "python3"
  },
  "language_info": {
   "codemirror_mode": {
    "name": "ipython",
    "version": 3
   },
   "file_extension": ".py",
   "mimetype": "text/x-python",
   "name": "python",
   "nbconvert_exporter": "python",
   "pygments_lexer": "ipython3",
   "version": "3.6.4"
  }
 },
 "nbformat": 4,
 "nbformat_minor": 2
}
